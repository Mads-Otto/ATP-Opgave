{
 "cells": [
  {
   "cell_type": "markdown",
   "id": "a71af345",
   "metadata": {},
   "source": [
    "# Case 2"
   ]
  },
  {
   "cell_type": "code",
   "execution_count": 1,
   "id": "6018af2d",
   "metadata": {},
   "outputs": [],
   "source": [
    "# importing pandas as pd\n",
    "from datetime import date\n",
    "import math\n",
    "import pandas as pd\n",
    "import numpy as np\n",
    "import matplotlib.pyplot as plt"
   ]
  },
  {
   "cell_type": "markdown",
   "id": "de3db104",
   "metadata": {},
   "source": [
    "## Bilag L"
   ]
  },
  {
   "cell_type": "code",
   "execution_count": 2,
   "id": "e7929644",
   "metadata": {},
   "outputs": [],
   "source": [
    "data_xls = pd.read_excel('/Users/madsrasmussen/Desktop/case/bilag/BilagL.xlsx', 'Figur 1', index_col=None)\n",
    "data_xls.to_csv('csvfile1.csv', encoding='utf-8', index=False)\n",
    "data_xls = pd.read_excel('/Users/madsrasmussen/Desktop/case/bilag/BilagL.xlsx', 'Figur 2', index_col=None)\n",
    "data_xls.to_csv('csvfile2.csv', encoding='utf-8', index=False)\n",
    "data_xls = pd.read_excel('/Users/madsrasmussen/Desktop/case/bilag/BilagL.xlsx', 'Figur 3', index_col=None)\n",
    "data_xls.to_csv('csvfile3.csv', encoding='utf-8', index=False)\n",
    "data_xls = pd.read_excel('/Users/madsrasmussen/Desktop/case/bilag/BilagL.xlsx', 'Figur 4', index_col=None)\n",
    "data_xls.to_csv('csvfile4.csv', encoding='utf-8', index=False)\n",
    "data_xls = pd.read_excel('/Users/madsrasmussen/Desktop/case/bilag/BilagL.xlsx', 'Figur 5', index_col=None)\n",
    "data_xls.to_csv('csvfile5.csv', encoding='utf-8', index=False)\n",
    "data_xls = pd.read_excel('/Users/madsrasmussen/Desktop/case/bilag/BilagL.xlsx', 'Figur 6', index_col=None)\n",
    "data_xls.to_csv('csvfile6.csv', encoding='utf-8', index=False)\n",
    "data_xls = pd.read_excel('/Users/madsrasmussen/Desktop/case/bilag/BilagL.xlsx', 'Figur 7', index_col=None)\n",
    "data_xls.to_csv('csvfile7.csv', encoding='utf-8', index=False)\n",
    "data_xls = pd.read_excel('/Users/madsrasmussen/Desktop/case/bilag/BilagL.xlsx', 'Figur 8', index_col=None)\n",
    "data_xls.to_csv('csvfile8.csv', encoding='utf-8', index=False)\n",
    "data_xls = pd.read_excel('/Users/madsrasmussen/Desktop/case/bilag/BilagL.xlsx', 'Figur 9', index_col=None)\n",
    "data_xls.to_csv('csvfile9.csv', encoding='utf-8', index=False)\n",
    "data_xls = pd.read_excel('/Users/madsrasmussen/Desktop/case/bilag/BilagL.xlsx', 'Figur 10', index_col=None)\n",
    "data_xls.to_csv('csvfile10.csv', encoding='utf-8', index=False)\n",
    "data_xls = pd.read_excel('/Users/madsrasmussen/Desktop/case/bilag/BilagL.xlsx', 'Figur 11', index_col=None)\n",
    "data_xls.to_csv('csvfile11.csv', encoding='utf-8', index=False)\n",
    "data_xls = pd.read_excel('/Users/madsrasmussen/Desktop/case/bilag/BilagL.xlsx', 'Figur 12', index_col=None)\n",
    "data_xls.to_csv('csvfile12.csv', encoding='utf-8', index=False)\n",
    "data_xls = pd.read_excel('/Users/madsrasmussen/Desktop/case/bilag/BilagL.xlsx', 'Figur 13', index_col=None)\n",
    "data_xls.to_csv('csvfile13.csv', encoding='utf-8', index=False)\n",
    "data_xls = pd.read_excel('/Users/madsrasmussen/Desktop/case/bilag/BilagL.xlsx', 'Figur 14', index_col=None)\n",
    "data_xls.to_csv('csvfile14.csv', encoding='utf-8', index=False)\n",
    "data_xls = pd.read_excel('/Users/madsrasmussen/Desktop/case/bilag/BilagL.xlsx', 'Figur 15', index_col=None)\n",
    "data_xls.to_csv('csvfile15.csv', encoding='utf-8', index=False)\n",
    "data_xls = pd.read_excel('/Users/madsrasmussen/Desktop/case/bilag/BilagL.xlsx', 'Figur 16', index_col=None)\n",
    "data_xls.to_csv('csvfile16.csv', encoding='utf-8', index=False)\n",
    "data_xls = pd.read_excel('/Users/madsrasmussen/Desktop/case/bilag/BilagL.xlsx', 'Figur 17', index_col=None)\n",
    "data_xls.to_csv('csvfile17.csv', encoding='utf-8', index=False)\n",
    "data_xls = pd.read_excel('/Users/madsrasmussen/Desktop/case/bilag/BilagL.xlsx', 'Figur 18', index_col=None)\n",
    "data_xls.to_csv('csvfile18.csv', encoding='utf-8', index=False)\n",
    "data_xls = pd.read_excel('/Users/madsrasmussen/Desktop/case/bilag/BilagL.xlsx', 'Figur 19', index_col=None)\n",
    "data_xls.to_csv('csvfile19.csv', encoding='utf-8', index=False)\n",
    "data_xls = pd.read_excel('/Users/madsrasmussen/Desktop/case/bilag/BilagL.xlsx', 'Figur 20', index_col=None)\n",
    "data_xls.to_csv('csvfile20.csv', encoding='utf-8', index=False)\n",
    "data_xls = pd.read_excel('/Users/madsrasmussen/Desktop/case/bilag/BilagL.xlsx', 'Figur 21', index_col=None)\n",
    "data_xls.to_csv('csvfile21.csv', encoding='utf-8', index=False)\n",
    "data_xls = pd.read_excel('/Users/madsrasmussen/Desktop/case/bilag/BilagL.xlsx', 'Figur 22', index_col=None)\n",
    "data_xls.to_csv('csvfile22.csv', encoding='utf-8', index=False)"
   ]
  },
  {
   "cell_type": "code",
   "execution_count": 9,
   "id": "1d22d9ce",
   "metadata": {},
   "outputs": [
    {
     "data": {
      "text/html": [
       "<div>\n",
       "<style scoped>\n",
       "    .dataframe tbody tr th:only-of-type {\n",
       "        vertical-align: middle;\n",
       "    }\n",
       "\n",
       "    .dataframe tbody tr th {\n",
       "        vertical-align: top;\n",
       "    }\n",
       "\n",
       "    .dataframe thead th {\n",
       "        text-align: right;\n",
       "    }\n",
       "</style>\n",
       "<table border=\"1\" class=\"dataframe\">\n",
       "  <thead>\n",
       "    <tr style=\"text-align: right;\">\n",
       "      <th></th>\n",
       "      <th>1.000 personer</th>\n",
       "      <th>Ufaglært</th>\n",
       "      <th>Faglært</th>\n",
       "      <th>KVU</th>\n",
       "      <th>MVU</th>\n",
       "      <th>LVU</th>\n",
       "      <th>Unnamed: 6</th>\n",
       "    </tr>\n",
       "  </thead>\n",
       "  <tbody>\n",
       "    <tr>\n",
       "      <th>0</th>\n",
       "      <td>30</td>\n",
       "      <td>1.7</td>\n",
       "      <td>1.4</td>\n",
       "      <td>0.2</td>\n",
       "      <td>0.9</td>\n",
       "      <td>0.6</td>\n",
       "      <td>NaN</td>\n",
       "    </tr>\n",
       "    <tr>\n",
       "      <th>1</th>\n",
       "      <td>31</td>\n",
       "      <td>1.7</td>\n",
       "      <td>1.6</td>\n",
       "      <td>0.2</td>\n",
       "      <td>1.0</td>\n",
       "      <td>0.8</td>\n",
       "      <td>NaN</td>\n",
       "    </tr>\n",
       "    <tr>\n",
       "      <th>2</th>\n",
       "      <td>32</td>\n",
       "      <td>1.9</td>\n",
       "      <td>1.8</td>\n",
       "      <td>0.2</td>\n",
       "      <td>1.3</td>\n",
       "      <td>1.1</td>\n",
       "      <td>NaN</td>\n",
       "    </tr>\n",
       "    <tr>\n",
       "      <th>3</th>\n",
       "      <td>33</td>\n",
       "      <td>2.0</td>\n",
       "      <td>1.9</td>\n",
       "      <td>0.3</td>\n",
       "      <td>1.5</td>\n",
       "      <td>1.4</td>\n",
       "      <td>NaN</td>\n",
       "    </tr>\n",
       "    <tr>\n",
       "      <th>4</th>\n",
       "      <td>34</td>\n",
       "      <td>2.2</td>\n",
       "      <td>2.2</td>\n",
       "      <td>0.3</td>\n",
       "      <td>2.0</td>\n",
       "      <td>1.9</td>\n",
       "      <td>NaN</td>\n",
       "    </tr>\n",
       "    <tr>\n",
       "      <th>5</th>\n",
       "      <td>35</td>\n",
       "      <td>2.5</td>\n",
       "      <td>2.7</td>\n",
       "      <td>0.4</td>\n",
       "      <td>2.9</td>\n",
       "      <td>2.6</td>\n",
       "      <td>NaN</td>\n",
       "    </tr>\n",
       "    <tr>\n",
       "      <th>6</th>\n",
       "      <td>36</td>\n",
       "      <td>3.0</td>\n",
       "      <td>3.2</td>\n",
       "      <td>0.5</td>\n",
       "      <td>4.1</td>\n",
       "      <td>3.4</td>\n",
       "      <td>NaN</td>\n",
       "    </tr>\n",
       "    <tr>\n",
       "      <th>7</th>\n",
       "      <td>37</td>\n",
       "      <td>3.5</td>\n",
       "      <td>4.0</td>\n",
       "      <td>0.7</td>\n",
       "      <td>6.0</td>\n",
       "      <td>3.8</td>\n",
       "      <td>NaN</td>\n",
       "    </tr>\n",
       "    <tr>\n",
       "      <th>8</th>\n",
       "      <td>38</td>\n",
       "      <td>4.2</td>\n",
       "      <td>5.5</td>\n",
       "      <td>1.1</td>\n",
       "      <td>8.3</td>\n",
       "      <td>3.3</td>\n",
       "      <td>NaN</td>\n",
       "    </tr>\n",
       "    <tr>\n",
       "      <th>9</th>\n",
       "      <td>39</td>\n",
       "      <td>5.4</td>\n",
       "      <td>7.6</td>\n",
       "      <td>1.5</td>\n",
       "      <td>9.3</td>\n",
       "      <td>2.3</td>\n",
       "      <td>NaN</td>\n",
       "    </tr>\n",
       "    <tr>\n",
       "      <th>10</th>\n",
       "      <td>40</td>\n",
       "      <td>7.3</td>\n",
       "      <td>11.5</td>\n",
       "      <td>2.0</td>\n",
       "      <td>9.0</td>\n",
       "      <td>1.4</td>\n",
       "      <td>NaN</td>\n",
       "    </tr>\n",
       "    <tr>\n",
       "      <th>11</th>\n",
       "      <td>41</td>\n",
       "      <td>9.6</td>\n",
       "      <td>18.5</td>\n",
       "      <td>2.6</td>\n",
       "      <td>7.8</td>\n",
       "      <td>1.0</td>\n",
       "      <td>NaN</td>\n",
       "    </tr>\n",
       "    <tr>\n",
       "      <th>12</th>\n",
       "      <td>42</td>\n",
       "      <td>12.5</td>\n",
       "      <td>26.5</td>\n",
       "      <td>3.0</td>\n",
       "      <td>5.5</td>\n",
       "      <td>0.8</td>\n",
       "      <td>NaN</td>\n",
       "    </tr>\n",
       "    <tr>\n",
       "      <th>13</th>\n",
       "      <td>43</td>\n",
       "      <td>15.9</td>\n",
       "      <td>31.6</td>\n",
       "      <td>2.7</td>\n",
       "      <td>3.3</td>\n",
       "      <td>0.5</td>\n",
       "      <td>NaN</td>\n",
       "    </tr>\n",
       "    <tr>\n",
       "      <th>14</th>\n",
       "      <td>44 +</td>\n",
       "      <td>14.5</td>\n",
       "      <td>21.3</td>\n",
       "      <td>1.8</td>\n",
       "      <td>1.2</td>\n",
       "      <td>0.2</td>\n",
       "      <td>NaN</td>\n",
       "    </tr>\n",
       "  </tbody>\n",
       "</table>\n",
       "</div>"
      ],
      "text/plain": [
       "   1.000 personer  Ufaglært  Faglært  KVU  MVU  LVU  Unnamed: 6\n",
       "0              30       1.7      1.4  0.2  0.9  0.6         NaN\n",
       "1              31       1.7      1.6  0.2  1.0  0.8         NaN\n",
       "2              32       1.9      1.8  0.2  1.3  1.1         NaN\n",
       "3              33       2.0      1.9  0.3  1.5  1.4         NaN\n",
       "4              34       2.2      2.2  0.3  2.0  1.9         NaN\n",
       "5              35       2.5      2.7  0.4  2.9  2.6         NaN\n",
       "6              36       3.0      3.2  0.5  4.1  3.4         NaN\n",
       "7              37       3.5      4.0  0.7  6.0  3.8         NaN\n",
       "8              38       4.2      5.5  1.1  8.3  3.3         NaN\n",
       "9              39       5.4      7.6  1.5  9.3  2.3         NaN\n",
       "10             40       7.3     11.5  2.0  9.0  1.4         NaN\n",
       "11             41       9.6     18.5  2.6  7.8  1.0         NaN\n",
       "12             42      12.5     26.5  3.0  5.5  0.8         NaN\n",
       "13             43      15.9     31.6  2.7  3.3  0.5         NaN\n",
       "14           44 +      14.5     21.3  1.8  1.2  0.2         NaN"
      ]
     },
     "execution_count": 9,
     "metadata": {},
     "output_type": "execute_result"
    }
   ],
   "source": [
    "pd.read_csv('csvfile1.csv')"
   ]
  },
  {
   "cell_type": "markdown",
   "id": "ae7aedc8",
   "metadata": {},
   "source": [
    "## Bilag J"
   ]
  },
  {
   "cell_type": "code",
   "execution_count": 4,
   "id": "1fcbe0c5",
   "metadata": {},
   "outputs": [],
   "source": [
    "data_xls = pd.read_excel('/Users/madsrasmussen/Desktop/case/bilag/BilagJ.xlsx', 'Figur 1', index_col=None)\n",
    "data_xls.to_csv('csvfileJ1.csv', encoding='utf-8', index=False)\n",
    "data_xls = pd.read_excel('/Users/madsrasmussen/Desktop/case/bilag/BilagJ.xlsx', 'Figur 2', index_col=None)\n",
    "data_xls.to_csv('csvfileJ2.csv', encoding='utf-8', index=False)\n",
    "data_xls = pd.read_excel('/Users/madsrasmussen/Desktop/case/bilag/BilagJ.xlsx', 'Figur 3', index_col=None)\n",
    "data_xls.to_csv('csvfileJ3.csv', encoding='utf-8', index=False)\n",
    "data_xls = pd.read_excel('/Users/madsrasmussen/Desktop/case/bilag/BilagJ.xlsx', 'Figur 4', index_col=None)\n",
    "data_xls.to_csv('csvfileJ4.csv', encoding='utf-8', index=False)\n",
    "data_xls = pd.read_excel('/Users/madsrasmussen/Desktop/case/bilag/BilagJ.xlsx', 'Tabel 1', index_col=None)\n",
    "data_xls.to_csv('csvfileJ5.csv', encoding='utf-8', index=False)\n",
    "data_xls = pd.read_excel('/Users/madsrasmussen/Desktop/case/bilag/BilagJ.xlsx', 'Tabel 2', index_col=None)\n",
    "data_xls.to_csv('csvfileJ6.csv', encoding='utf-8', index=False)"
   ]
  },
  {
   "cell_type": "code",
   "execution_count": 5,
   "id": "19c850d4",
   "metadata": {},
   "outputs": [
    {
     "data": {
      "text/html": [
       "<div>\n",
       "<style scoped>\n",
       "    .dataframe tbody tr th:only-of-type {\n",
       "        vertical-align: middle;\n",
       "    }\n",
       "\n",
       "    .dataframe tbody tr th {\n",
       "        vertical-align: top;\n",
       "    }\n",
       "\n",
       "    .dataframe thead th {\n",
       "        text-align: right;\n",
       "    }\n",
       "</style>\n",
       "<table border=\"1\" class=\"dataframe\">\n",
       "  <thead>\n",
       "    <tr style=\"text-align: right;\">\n",
       "      <th></th>\n",
       "      <th>1.000 personer</th>\n",
       "      <th>2022</th>\n",
       "      <th>2023</th>\n",
       "      <th>2024</th>\n",
       "      <th>2025</th>\n",
       "      <th>2026</th>\n",
       "      <th>2027</th>\n",
       "      <th>2028</th>\n",
       "      <th>2029</th>\n",
       "      <th>2030</th>\n",
       "      <th>2031</th>\n",
       "      <th>2032</th>\n",
       "      <th>2033</th>\n",
       "      <th>2034</th>\n",
       "      <th>2035</th>\n",
       "    </tr>\n",
       "  </thead>\n",
       "  <tbody>\n",
       "    <tr>\n",
       "      <th>0</th>\n",
       "      <td>Berettiget til tidlig pension</td>\n",
       "      <td>41.3</td>\n",
       "      <td>49.4</td>\n",
       "      <td>56.6</td>\n",
       "      <td>55.9</td>\n",
       "      <td>52.2</td>\n",
       "      <td>45.0</td>\n",
       "      <td>34.3</td>\n",
       "      <td>24.8</td>\n",
       "      <td>32.0</td>\n",
       "      <td>42.2</td>\n",
       "      <td>39.0</td>\n",
       "      <td>31.8</td>\n",
       "      <td>22.5</td>\n",
       "      <td>28.0</td>\n",
       "    </tr>\n",
       "    <tr>\n",
       "      <th>1</th>\n",
       "      <td>Benytter tidlig pension</td>\n",
       "      <td>24.5</td>\n",
       "      <td>29.4</td>\n",
       "      <td>32.5</td>\n",
       "      <td>29.0</td>\n",
       "      <td>25.1</td>\n",
       "      <td>21.5</td>\n",
       "      <td>16.6</td>\n",
       "      <td>12.8</td>\n",
       "      <td>16.6</td>\n",
       "      <td>21.8</td>\n",
       "      <td>20.4</td>\n",
       "      <td>16.8</td>\n",
       "      <td>12.3</td>\n",
       "      <td>15.5</td>\n",
       "    </tr>\n",
       "  </tbody>\n",
       "</table>\n",
       "</div>"
      ],
      "text/plain": [
       "                  1.000 personer  2022  2023  2024  2025  2026  2027  2028  \\\n",
       "0  Berettiget til tidlig pension  41.3  49.4  56.6  55.9  52.2  45.0  34.3   \n",
       "1        Benytter tidlig pension  24.5  29.4  32.5  29.0  25.1  21.5  16.6   \n",
       "\n",
       "   2029  2030  2031  2032  2033  2034  2035  \n",
       "0  24.8  32.0  42.2  39.0  31.8  22.5  28.0  \n",
       "1  12.8  16.6  21.8  20.4  16.8  12.3  15.5  "
      ]
     },
     "execution_count": 5,
     "metadata": {},
     "output_type": "execute_result"
    }
   ],
   "source": [
    "pd.read_csv('csvfileJ1.csv')"
   ]
  },
  {
   "cell_type": "markdown",
   "id": "835dafd7",
   "metadata": {},
   "source": [
    "## Hvor mange ansøgninger skal ATP forvente at behandle?"
   ]
  },
  {
   "cell_type": "markdown",
   "id": "b64a906a",
   "metadata": {},
   "source": [
    "#### Hvor mange ansøgere har automatisk fuld anciennitet?\n",
    "\n",
    "Alle som er berretiget til 3 års tidligere pension"
   ]
  },
  {
   "cell_type": "code",
   "execution_count": 14,
   "id": "b790fd63",
   "metadata": {},
   "outputs": [
    {
     "data": {
      "text/plain": [
       "29559.199999999997"
      ]
     },
     "execution_count": 14,
     "metadata": {},
     "output_type": "execute_result"
    }
   ],
   "source": [
    "df7 = pd.read_csv('csvfile7.csv')\n",
    "\n",
    "335900*0.088"
   ]
  },
  {
   "cell_type": "markdown",
   "id": "fde23cb9",
   "metadata": {},
   "source": [
    "#### Hvor mange ansøgere kræver manuel håndtering?\n",
    "\n",
    "Som udgangspunkt alle som ikke har arbejdet i 44 år når de søger"
   ]
  },
  {
   "cell_type": "code",
   "execution_count": 20,
   "id": "e17ab2ba",
   "metadata": {},
   "outputs": [
    {
     "name": "stdout",
     "output_type": "stream",
     "text": [
      "83975.0\n"
     ]
    }
   ],
   "source": [
    "Etaar = 335900*0.128\n",
    "Toaar = 335900*0.122\n",
    "\n",
    "print(Etaar+Toaar)"
   ]
  },
  {
   "cell_type": "markdown",
   "id": "789c7c23",
   "metadata": {},
   "source": [
    "Det er ikke alt registerdata som har været tilgængelige i løbet af den relevante gruppes liv, hvorfor også ansøgere der ikke har nok anciennitet til nogle år som udgangspunkt, kan potentielt opnå det gennem supplerende dokumentation.\n",
    "Supplerende information om periode i arbejdsløshed (først dokumenteret med arbejdsløshedsdagpenge fra 1985), barsel og sygeforløb (sygedagpenge og barselsdagpenge først dokumenteret fra 1993) og  beskæftigelse i udlandet."
   ]
  },
  {
   "cell_type": "markdown",
   "id": "1ac8da32",
   "metadata": {},
   "source": [
    "#### Hvor mange ansøgere, der kræver manuel behandling, indsender supplerende dokumentation (jf. punkt 2bi.i i procesbeskrivelsen)\n",
    "\n",
    "Anvend csvfile1?\n",
    "\n",
    "Tag svaret fra en af de ovenstående, og gang det med 0,5? Eller argumenter for, størrelsen af dem som indsender supplerende dokumentation."
   ]
  },
  {
   "cell_type": "code",
   "execution_count": null,
   "id": "b1c24d87",
   "metadata": {},
   "outputs": [],
   "source": []
  },
  {
   "cell_type": "markdown",
   "id": "6899a8fe",
   "metadata": {},
   "source": [
    "## Hvor lang sagsbehandlingstid estimeres til hhv. fuldt automatiserede sager og manuelle sager?"
   ]
  },
  {
   "cell_type": "markdown",
   "id": "431a2737",
   "metadata": {},
   "source": [
    "#### Hvilke informationer skal behandles ifm. en typisk ansøgning?\n",
    "\n",
    "csvfile1 - tid på arbejdsmarkedet\n",
    "- Hovedinformationen ift. en typisk ansøgning. Hovedkriteriet i at vurdere om man har *ret* til TP.\n",
    "- Perioder med arbejdsløshedspenge eller sygedagpenge indgår også i opgørelse. Lønnet praktik tæller også med.\n",
    "\n",
    "csvfile2 - Begrænset i arbejde pga. smerte\n",
    "- Knap hver tredje ufaglært eller faglært er begrænset pga. smerter.\n",
    "\n",
    "csvfile3 og csvfile4 - resterende levetid for mænd og kvinder\n",
    "- Argumentet for TP starmer i bund og grund fra den diskrepenans der eksisterer mellem folk der har startet tidligere på arbejdsmarkedet (og ofte har hårdere fysisk arbejde) og dem som starter senere i deres levealder.\n",
    "\n",
    "csvfile8 - ret til TP fordelt på uddannelse\n",
    "- Forventet at 80% af dem som søger ret til TP er ufaglærte eller faglærte\n",
    "\n",
    "csvfile16 - ret til TP fordelt på arbejdsindkomst\n",
    "- Dem som tjener under 300k til og med 500 om året udgør stort set alle de får retten.\n",
    "\n",
    "csvfile18 - ret itl TP fordelt på jobfunktion/a-kasse\n",
    "\n",
    "csvfile (kvinde vs mænd?)\n",
    "- Både mødre og fædre får et års anciennitet per barn Det vil tilgodese kvinder, da de typisk har færre år på arbejdsmarkedet År med barsel tæller derfor med og bidrager til, at man opnår ret til tidlig pension Men man kan højest få et års anciennitet per kalenderår\n",
    "- For eksempel har vi valgt, at deltidsarbejde sidestilles med fuldtidsarbejde Det har vi gjort af hensyn til de mange kvinder, som er på deltid ude på arbejdspladsen, men til gengæld tager det største slæb hjemme i familien"
   ]
  },
  {
   "cell_type": "code",
   "execution_count": null,
   "id": "4e78c700",
   "metadata": {},
   "outputs": [],
   "source": []
  },
  {
   "cell_type": "markdown",
   "id": "6d73a334",
   "metadata": {},
   "source": [
    "#### Hvor i processen forventes et tidsforbrug ifm. behandling af en typisk ansøgning? (jf. procesbeskrivelsen)?. I bedes forklare baggrunden for tidsforbruget.\n",
    "\n",
    "Tidsforbrug forvnetes i sutationen hvor perosnen ikke har automatisk fuld anciennitet, og derfor kræver yderligere bearbejdelse af dokumentation"
   ]
  },
  {
   "cell_type": "code",
   "execution_count": null,
   "id": "83871333",
   "metadata": {},
   "outputs": [],
   "source": []
  }
 ],
 "metadata": {
  "kernelspec": {
   "display_name": "Python 3",
   "language": "python",
   "name": "python3"
  },
  "language_info": {
   "codemirror_mode": {
    "name": "ipython",
    "version": 3
   },
   "file_extension": ".py",
   "mimetype": "text/x-python",
   "name": "python",
   "nbconvert_exporter": "python",
   "pygments_lexer": "ipython3",
   "version": "3.8.8"
  }
 },
 "nbformat": 4,
 "nbformat_minor": 5
}
