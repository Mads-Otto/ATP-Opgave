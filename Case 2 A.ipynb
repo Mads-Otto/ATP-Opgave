{
 "cells": [
  {
   "cell_type": "markdown",
   "id": "a71af345",
   "metadata": {},
   "source": [
    "# Case 2"
   ]
  },
  {
   "cell_type": "code",
   "execution_count": 75,
   "id": "6018af2d",
   "metadata": {},
   "outputs": [],
   "source": [
    "# importing pandas as pd\n",
    "from datetime import date\n",
    "import math\n",
    "import pandas as pd\n",
    "import numpy as np\n",
    "import matplotlib.pyplot as plt"
   ]
  },
  {
   "cell_type": "markdown",
   "id": "de3db104",
   "metadata": {},
   "source": [
    "## Bilag L"
   ]
  },
  {
   "cell_type": "code",
   "execution_count": 12,
   "id": "e7929644",
   "metadata": {},
   "outputs": [],
   "source": [
    "data_xls = pd.read_excel('/Users/amaliekolmorgen/Desktop/case/bilag/BilagL.xlsx', 'Figur 1', index_col=None)\n",
    "data_xls.to_csv('csvfile1.csv', encoding='utf-8', index=False)\n",
    "data_xls = pd.read_excel('/Users/amaliekolmorgen/Desktop/case/bilag/BilagL.xlsx', 'Figur 2', index_col=None)\n",
    "data_xls.to_csv('csvfile2.csv', encoding='utf-8', index=False)\n",
    "data_xls = pd.read_excel('/Users/amaliekolmorgen/Desktop/case/bilag/BilagL.xlsx', 'Figur 3', index_col=None)\n",
    "data_xls.to_csv('csvfile3.csv', encoding='utf-8', index=False)\n",
    "data_xls = pd.read_excel('/Users/amaliekolmorgen/Desktop/case/bilag/BilagL.xlsx', 'Figur 4', index_col=None)\n",
    "data_xls.to_csv('csvfile4.csv', encoding='utf-8', index=False)\n",
    "data_xls = pd.read_excel('/Users/amaliekolmorgen/Desktop/case/bilag/BilagL.xlsx', 'Figur 5', index_col=None)\n",
    "data_xls.to_csv('csvfile5.csv', encoding='utf-8', index=False)\n",
    "data_xls = pd.read_excel('/Users/amaliekolmorgen/Desktop/case/bilag/BilagL.xlsx', 'Figur 6', index_col=None)\n",
    "data_xls.to_csv('csvfile6.csv', encoding='utf-8', index=False)\n",
    "data_xls = pd.read_excel('/Users/amaliekolmorgen/Desktop/case/bilag/BilagL.xlsx', 'Figur 7', index_col=None)\n",
    "data_xls.to_csv('csvfile7.csv', encoding='utf-8', index=False)\n",
    "data_xls = pd.read_excel('/Users/amaliekolmorgen/Desktop/case/bilag/BilagL.xlsx', 'Figur 8', index_col=None)\n",
    "data_xls.to_csv('csvfile8.csv', encoding='utf-8', index=False)\n",
    "data_xls = pd.read_excel('/Users/amaliekolmorgen/Desktop/case/bilag/BilagL.xlsx', 'Figur 9', index_col=None)\n",
    "data_xls.to_csv('csvfile9.csv', encoding='utf-8', index=False)\n",
    "data_xls = pd.read_excel('/Users/amaliekolmorgen/Desktop/case/bilag/BilagL.xlsx', 'Figur 10', index_col=None)\n",
    "data_xls.to_csv('csvfile10.csv', encoding='utf-8', index=False)\n",
    "data_xls = pd.read_excel('/Users/amaliekolmorgen/Desktop/case/bilag/BilagL.xlsx', 'Figur 11', index_col=None)\n",
    "data_xls.to_csv('csvfile11.csv', encoding='utf-8', index=False)\n",
    "data_xls = pd.read_excel('/Users/amaliekolmorgen/Desktop/case/bilag/BilagL.xlsx', 'Figur 12', index_col=None)\n",
    "data_xls.to_csv('csvfile12.csv', encoding='utf-8', index=False)\n",
    "data_xls = pd.read_excel('/Users/amaliekolmorgen/Desktop/case/bilag/BilagL.xlsx', 'Figur 13', index_col=None)\n",
    "data_xls.to_csv('csvfile13.csv', encoding='utf-8', index=False)\n",
    "data_xls = pd.read_excel('/Users/amaliekolmorgen/Desktop/case/bilag/BilagL.xlsx', 'Figur 14', index_col=None)\n",
    "data_xls.to_csv('csvfile14.csv', encoding='utf-8', index=False)\n",
    "data_xls = pd.read_excel('/Users/amaliekolmorgen/Desktop/case/bilag/BilagL.xlsx', 'Figur 15', index_col=None)\n",
    "data_xls.to_csv('csvfile15.csv', encoding='utf-8', index=False)\n",
    "data_xls = pd.read_excel('/Users/amaliekolmorgen/Desktop/case/bilag/BilagL.xlsx', 'Figur 16', index_col=None)\n",
    "data_xls.to_csv('csvfile16.csv', encoding='utf-8', index=False)\n",
    "data_xls = pd.read_excel('/Users/amaliekolmorgen/Desktop/case/bilag/BilagL.xlsx', 'Figur 17', index_col=None)\n",
    "data_xls.to_csv('csvfile17.csv', encoding='utf-8', index=False)\n",
    "data_xls = pd.read_excel('/Users/amaliekolmorgen/Desktop/case/bilag/BilagL.xlsx', 'Figur 18', index_col=None)\n",
    "data_xls.to_csv('csvfile18.csv', encoding='utf-8', index=False)\n",
    "data_xls = pd.read_excel('/Users/amaliekolmorgen/Desktop/case/bilag/BilagL.xlsx', 'Figur 19', index_col=None)\n",
    "data_xls.to_csv('csvfile19.csv', encoding='utf-8', index=False)\n",
    "data_xls = pd.read_excel('/Users/amaliekolmorgen/Desktop/case/bilag/BilagL.xlsx', 'Figur 20', index_col=None)\n",
    "data_xls.to_csv('csvfile20.csv', encoding='utf-8', index=False)\n",
    "data_xls = pd.read_excel('/Users/amaliekolmorgen/Desktop/case/bilag/BilagL.xlsx', 'Figur 21', index_col=None)\n",
    "data_xls.to_csv('csvfile21.csv', encoding='utf-8', index=False)\n",
    "data_xls = pd.read_excel('/Users/amaliekolmorgen/Desktop/case/bilag/BilagL.xlsx', 'Figur 22', index_col=None)\n",
    "data_xls.to_csv('csvfile22.csv', encoding='utf-8', index=False)"
   ]
  },
  {
   "cell_type": "code",
   "execution_count": null,
   "id": "1d22d9ce",
   "metadata": {},
   "outputs": [],
   "source": []
  },
  {
   "cell_type": "markdown",
   "id": "ae7aedc8",
   "metadata": {},
   "source": [
    "## Bilag J"
   ]
  },
  {
   "cell_type": "code",
   "execution_count": 8,
   "id": "1fcbe0c5",
   "metadata": {},
   "outputs": [],
   "source": [
    "data_xls = pd.read_excel('/Users/amaliekolmorgen/Desktop/case/bilag/BilagJ.xlsx', 'Figur 1', index_col=None)\n",
    "data_xls.to_csv('csvfileJ1.csv', encoding='utf-8', index=False)\n",
    "data_xls = pd.read_excel('/Users/amaliekolmorgen/Desktop/case/bilag/BilagJ.xlsx', 'Figur 2', index_col=None)\n",
    "data_xls.to_csv('csvfileJ2.csv', encoding='utf-8', index=False)\n",
    "data_xls = pd.read_excel('/Users/amaliekolmorgen/Desktop/case/bilag/BilagJ.xlsx', 'Figur 3', index_col=None)\n",
    "data_xls.to_csv('csvfileJ3.csv', encoding='utf-8', index=False)\n",
    "data_xls = pd.read_excel('/Users/amaliekolmorgen/Desktop/case/bilag/BilagJ.xlsx', 'Figur 4', index_col=None)\n",
    "data_xls.to_csv('csvfileJ4.csv', encoding='utf-8', index=False)\n",
    "data_xls = pd.read_excel('/Users/amaliekolmorgen/Desktop/case/bilag/BilagJ.xlsx', 'Tabel 1', index_col=None)\n",
    "data_xls.to_csv('csvfileJ5.csv', encoding='utf-8', index=False)\n",
    "data_xls = pd.read_excel('/Users/amaliekolmorgen/Desktop/case/bilag/BilagJ.xlsx', 'Tabel 2', index_col=None)\n",
    "data_xls.to_csv('csvfileJ6.csv', encoding='utf-8', index=False)"
   ]
  },
  {
   "cell_type": "code",
   "execution_count": null,
   "id": "ed8e3674",
   "metadata": {},
   "outputs": [],
   "source": []
  },
  {
   "cell_type": "code",
   "execution_count": null,
   "id": "19c850d4",
   "metadata": {},
   "outputs": [],
   "source": []
  },
  {
   "cell_type": "code",
   "execution_count": 88,
   "id": "995c7025",
   "metadata": {},
   "outputs": [
    {
     "name": "stdout",
     "output_type": "stream",
     "text": [
      "6.5\n"
     ]
    }
   ],
   "source": [
    "#DEl 1: A i\n",
    "#i. Hvor mange årgange har adgang til at søge i 2021?\n",
    "\n",
    "a = (2021- 66), (2021-65), (2021-64), (2021-63), (2021-62), (2021-61)\n",
    "list1 = (a)\n",
    "n_o_e = len(list1) + 0.5\n",
    "\n",
    "print (n_o_e)\n",
    "\n",
    "#0.5 repræsentere de personer som født mellem 1 august- 31 december 1954."
   ]
  },
  {
   "cell_type": "code",
   "execution_count": 89,
   "id": "41a99e90",
   "metadata": {},
   "outputs": [],
   "source": [
    "#DEL 1: A ii\n",
    "#Hvilke grupper kan forventes at søge?\n",
    "# Det kunne forventes at dem i grupperne faglærte og ufaglærte vil søge, da det klart \n",
    "#er dem som er størst repræsentret ved smerte tabellen (figur 2)"
   ]
  },
  {
   "cell_type": "code",
   "execution_count": null,
   "id": "fbc3c723",
   "metadata": {},
   "outputs": [],
   "source": [
    "# DEL 1: A iii\n",
    "#Hvor mange personer, der opfylder kravene for at få tilkendt retten til TP, afstår fra at søge? (figur 5)\n",
    "\n"
   ]
  },
  {
   "cell_type": "code",
   "execution_count": 48,
   "id": "8ee39482",
   "metadata": {},
   "outputs": [
    {
     "name": "stdout",
     "output_type": "stream",
     "text": [
      "   1.000 personer  Ufaglært  Faglært  KVU  MVU  LVU  Unnamed: 6\n",
      "0              30       1.7      1.4  0.2  0.9  0.6         NaN\n",
      "1              31       1.7      1.6  0.2  1.0  0.8         NaN\n",
      "2              32       1.9      1.8  0.2  1.3  1.1         NaN\n",
      "3              33       2.0      1.9  0.3  1.5  1.4         NaN\n",
      "4              34       2.2      2.2  0.3  2.0  1.9         NaN\n",
      "5              35       2.5      2.7  0.4  2.9  2.6         NaN\n",
      "6              36       3.0      3.2  0.5  4.1  3.4         NaN\n",
      "7              37       3.5      4.0  0.7  6.0  3.8         NaN\n",
      "8              38       4.2      5.5  1.1  8.3  3.3         NaN\n",
      "9              39       5.4      7.6  1.5  9.3  2.3         NaN\n",
      "10             40       7.3     11.5  2.0  9.0  1.4         NaN\n",
      "11             41       9.6     18.5  2.6  7.8  1.0         NaN\n",
      "12             42      12.5     26.5  3.0  5.5  0.8         NaN\n",
      "13             43      15.9     31.6  2.7  3.3  0.5         NaN\n",
      "14           44 +      14.5     21.3  1.8  1.2  0.2         NaN\n"
     ]
    }
   ],
   "source": [
    "# DEL 1: A iv\n",
    "\n",
    "#antallet af forventet ansøger til TP\n",
    "\n",
    "\n",
    "df = pd.read_csv('csvfile1.csv')\n",
    "print (df)"
   ]
  },
  {
   "cell_type": "code",
   "execution_count": 58,
   "id": "10438b54",
   "metadata": {},
   "outputs": [
    {
     "name": "stdout",
     "output_type": "stream",
     "text": [
      "25410.799999999996\n"
     ]
    }
   ],
   "source": [
    "# summen for specifike grupper\n",
    "\n",
    "sum1 = df['Ufaglært'].sum()\n",
    "sum2 = df['Faglært'([])].sum()\n",
    "sum3 = df['KVU'].sum()\n",
    "sum4 = df['MVU'].sum()\n",
    "sum5 = df['LVU'].sum()\n",
    "\n",
    "ts =(sum1+sum2+sum3+sum4+sum5*1000)\n",
    "\n",
    "print(ts)"
   ]
  },
  {
   "cell_type": "code",
   "execution_count": null,
   "id": "10b15067",
   "metadata": {},
   "outputs": [],
   "source": []
  },
  {
   "cell_type": "code",
   "execution_count": 23,
   "id": "7bb1d780",
   "metadata": {},
   "outputs": [],
   "source": [
    "# DEL 2: SAGSBEHANDLING Bi\n",
    "#Beregning af at antal uger mellem 2 datoer\n",
    "\n",
    "date1 = date(2021,8,1)\n",
    "date2 = date(2021,12,31)\n",
    "\n",
    "# abs = absolute value \n",
    "\n",
    "days = abs(date1-date2).days\n"
   ]
  },
  {
   "cell_type": "code",
   "execution_count": 90,
   "id": "b71ffefa",
   "metadata": {},
   "outputs": [
    {
     "name": "stdout",
     "output_type": "stream",
     "text": [
      "21.714285714285715\n"
     ]
    },
    {
     "data": {
      "text/plain": [
       "22"
      ]
     },
     "execution_count": 90,
     "metadata": {},
     "output_type": "execute_result"
    }
   ],
   "source": [
    "print (days/7)\n",
    "round (days/7)\n",
    "\n",
    "#hvad vil helst benytte?"
   ]
  },
  {
   "cell_type": "code",
   "execution_count": 39,
   "id": "06fc1635",
   "metadata": {},
   "outputs": [],
   "source": [
    "#DEL 2: B ii\n",
    "#Hvor mange arbejdstimer er der behov for i perioden?"
   ]
  },
  {
   "cell_type": "code",
   "execution_count": 94,
   "id": "39d916b2",
   "metadata": {},
   "outputs": [
    {
     "name": "stdout",
     "output_type": "stream",
     "text": [
      "(30.286, 30)\n"
     ]
    }
   ],
   "source": [
    "b=(52-21.714),(52-22)\n",
    "print (b)"
   ]
  },
  {
   "cell_type": "code",
   "execution_count": null,
   "id": "00713405",
   "metadata": {},
   "outputs": [],
   "source": [
    "#DEL 2: B iii\n",
    "#Hvor mange medarbejdere, er der behov for i perioden?"
   ]
  }
 ],
 "metadata": {
  "kernelspec": {
   "display_name": "Python 3",
   "language": "python",
   "name": "python3"
  },
  "language_info": {
   "codemirror_mode": {
    "name": "ipython",
    "version": 3
   },
   "file_extension": ".py",
   "mimetype": "text/x-python",
   "name": "python",
   "nbconvert_exporter": "python",
   "pygments_lexer": "ipython3",
   "version": "3.8.8"
  }
 },
 "nbformat": 4,
 "nbformat_minor": 5
}
